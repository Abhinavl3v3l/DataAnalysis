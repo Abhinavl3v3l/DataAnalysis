{
 "cells": [
  {
   "cell_type": "markdown",
   "metadata": {},
   "source": [
    "\n",
    "### States of US"
   ]
  },
  {
   "cell_type": "code",
   "execution_count": 20,
   "metadata": {},
   "outputs": [
    {
     "name": "stdout",
     "output_type": "stream",
     "text": [
      "1 ['Alabama', 'edit]\\n']\n",
      "2 ['Alaska', 'edit]\\n']\n",
      "3 ['Arizona', 'edit]\\n']\n",
      "4 ['Arkansas', 'edit]\\n']\n",
      "5 ['California', 'edit]\\n']\n",
      "6 ['Colorado', 'edit]\\n']\n",
      "7 ['Connecticut', 'edit]\\n']\n",
      "8 ['Delaware', 'edit]\\n']\n",
      "9 ['Florida', 'edit]\\n']\n",
      "10 ['Georgia', 'edit]\\n']\n",
      "11 ['Hawaii', 'edit]\\n']\n",
      "12 ['Idaho', 'edit]\\n']\n",
      "13 ['Illinois', 'edit]\\n']\n",
      "14 ['Indiana', 'edit]\\n']\n",
      "15 ['Iowa', 'edit]\\n']\n",
      "16 ['Kansas', 'edit]\\n']\n",
      "17 ['Kentucky', 'edit]\\n']\n",
      "18 ['Louisiana', 'edit]\\n']\n",
      "19 ['Maine', 'edit]\\n']\n",
      "20 ['Maryland', 'edit]\\n']\n",
      "21 ['Massachusetts', 'edit]\\n']\n",
      "22 ['Michigan', 'edit]\\n']\n",
      "23 ['Minnesota', 'edit]\\n']\n",
      "24 ['Mississippi', 'edit]\\n']\n",
      "25 ['Missouri', 'edit]\\n']\n",
      "26 ['Montana', 'edit]\\n']\n",
      "27 ['Nebraska', 'edit]\\n']\n",
      "28 ['Nevada', 'edit]\\n']\n",
      "29 ['Ohio', 'edit]\\n']\n",
      "30 ['Oklahoma', 'edit]\\n']\n",
      "31 ['Oregon', 'edit]\\n']\n",
      "32 ['Pennsylvania', 'edit]\\n']\n",
      "33 ['Tennessee', 'edit]\\n']\n",
      "34 ['Texas', 'edit]\\n']\n",
      "35 ['Utah', 'edit]\\n']\n",
      "36 ['Vermont', 'edit]\\n']\n",
      "37 ['Virginia', 'edit]\\n']\n",
      "38 ['Washington', 'edit]\\n']\n",
      "39 ['Wisconsin', 'edit]\\n']\n",
      "40 ['Wyoming', 'edit]\\n']\n"
     ]
    }
   ],
   "source": [
    "list_of_sates = {}\n",
    "ut_fh = open('university_towns.txt')\n",
    "# for lines in ut_fh:\n",
    "#     print(lines.split(),'with length ',len(lines.split()))\n",
    "count_state = 0\n",
    "for lines in ut_fh:\n",
    "    if len(lines.split()) == 1:\n",
    "        count_state =count_state+1\n",
    "        print(count_state,lines.split('['))\n",
    "        \n",
    "#     else: \n",
    "#         print(lines.split('(')[0])\n",
    "        \n",
    "        "
   ]
  }
 ],
 "metadata": {
  "kernelspec": {
   "display_name": "Python 3",
   "language": "python",
   "name": "python3"
  },
  "language_info": {
   "codemirror_mode": {
    "name": "ipython",
    "version": 3
   },
   "file_extension": ".py",
   "mimetype": "text/x-python",
   "name": "python",
   "nbconvert_exporter": "python",
   "pygments_lexer": "ipython3",
   "version": "3.6.0"
  }
 },
 "nbformat": 4,
 "nbformat_minor": 2
}
